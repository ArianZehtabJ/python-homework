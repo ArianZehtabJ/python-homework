{
 "cells": [
  {
   "cell_type": "code",
   "execution_count": 1,
   "id": "3293400c-5e1c-4b74-9259-048fa9a4c7bf",
   "metadata": {},
   "outputs": [],
   "source": [
    "from pathlib import Path"
   ]
  },
  {
   "cell_type": "code",
   "execution_count": 2,
   "id": "1cf22de9-6713-4c69-b83e-2c5bf8e17257",
   "metadata": {},
   "outputs": [],
   "source": [
    "import csv "
   ]
  },
  {
   "cell_type": "code",
   "execution_count": null,
   "id": "1dab82e2-f1e9-46a6-aaf7-0ca5d91752ae",
   "metadata": {},
   "outputs": [],
   "source": []
  },
  {
   "cell_type": "code",
   "execution_count": 9,
   "id": "48fa02df-7251-4882-8b82-eb8ce1adb32b",
   "metadata": {},
   "outputs": [],
   "source": [
    "# initializing variables to bo used.\n",
    "df = []\n",
    "inc_month =[\"\"]\n",
    "dec_month =[\"\"]\n",
    "previous_val = 0\n",
    "Total_Months = 1\n",
    "Total = 0\n",
    "Average_Change = 0\n",
    "Greatest_Increase = 0\n",
    "Greatest_Decrease = 0\n",
    "# where to find csv file for use\n",
    "csvpath = Path(\"resources\\Budget_data.csv\") "
   ]
  },
  {
   "cell_type": "code",
   "execution_count": 10,
   "id": "ec5aef49-72a3-4f9d-beda-b763e2778a2e",
   "metadata": {},
   "outputs": [],
   "source": [
    "# grabbing csv file and opening it\n",
    "with open(csvpath, \"r\") as csvfile:\n",
    "    csvreader = csv.reader(csvfile)    \n",
    "    next(csvreader)\n",
    "    # adding a second \"next\" to give the initial \"previous       value\" the correct starting point\n",
    "    df = next(csvreader)\n",
    "    previous_val = int(df[1])\n",
    "    Total = previous_val\n",
    "    # for loop to do nessesary calculations\n",
    "    for row in csvreader:\n",
    "\n",
    "        Total_Months = Total_Months +1\n",
    "        Total = Total + int(row[1])\n",
    "        Average_Change = Average_Change + (int(row[1])-previous_val)\n",
    "    # if statments to get values from \"for loop\"        \n",
    "        if int(row[1]) - previous_val > Greatest_Increase:\n",
    "            Greatest_Increase = int(row[1]) - previous_val\n",
    "            inc_month = (row[0])\n",
    "        elif int(row[1]) - previous_val < Greatest_Decrease:\n",
    "            Greatest_Decrease = int(row[1]) - previous_val\n",
    "            dec_month = (row[0])\n",
    "        previous_val = int(row[1])   \n",
    "    Average_Change = Average_Change/(Total_Months-1)\n",
    "\n",
    "    \n",
    "    \n",
    "    "
   ]
  },
  {
   "cell_type": "code",
   "execution_count": 11,
   "id": "8c50f4b3-79bb-4096-b923-8bd050d32876",
   "metadata": {},
   "outputs": [
    {
     "name": "stdout",
     "output_type": "stream",
     "text": [
      "Total: 38382578\n",
      "Total Months: 86\n",
      "Average  Change: -2315.12\n",
      "Greatest Increase in Profits: Feb-2012 : 1926159\n",
      "Greatest Decrease in Profits: Sep-2013 : -2196167\n"
     ]
    }
   ],
   "source": [
    "\n",
    "# results \n",
    "print(\"Total:\", Total)\n",
    "print(\"Total Months:\", Total_Months)\n",
    "print(\"Average  Change:\", round(Average_Change,2))\n",
    "print(\"Greatest Increase in Profits:\", inc_month,\":\", Greatest_Increase)\n",
    "print(\"Greatest Decrease in Profits:\", dec_month,\":\", Greatest_Decrease) "
   ]
  },
  {
   "cell_type": "code",
   "execution_count": 21,
   "id": "63ec9786-3bd4-4223-8191-db656e9b2e76",
   "metadata": {},
   "outputs": [],
   "source": [
    "# data to be written row-wise in csv file\n",
    "data = [\n",
    "    [\"Total:\", Total],\n",
    "    [\"Total Months:\", Total_Months],\n",
    "    [\"Average  Change:\", Average_Change],\n",
    "    [\"Greatest Increase in Profits:\", inc_month,\":\", Greatest_Increase],\n",
    "    [\"Greatest Decrease in Profits:\", dec_month,\":\", Greatest_Decrease]\n",
    "    ]\n",
    "  \n",
    "# opening the csv file \n",
    "file = open('resources/result_data.csv', 'a+', newline ='')\n",
    "  \n",
    "# writing the data into the file\n",
    "with file:    \n",
    "    write = csv.writer(file)\n",
    "    write.writerows(data) "
   ]
  },
  {
   "cell_type": "code",
   "execution_count": null,
   "id": "e4eb0b11-7d9c-4693-9fb5-d54bd871bb73",
   "metadata": {},
   "outputs": [],
   "source": []
  },
  {
   "cell_type": "code",
   "execution_count": null,
   "id": "769272af-bb39-40f8-a707-b6e34ca6ac7d",
   "metadata": {},
   "outputs": [],
   "source": []
  }
 ],
 "metadata": {
  "kernelspec": {
   "display_name": "Python 3 (ipykernel)",
   "language": "python",
   "name": "python3"
  },
  "language_info": {
   "codemirror_mode": {
    "name": "ipython",
    "version": 3
   },
   "file_extension": ".py",
   "mimetype": "text/x-python",
   "name": "python",
   "nbconvert_exporter": "python",
   "pygments_lexer": "ipython3",
   "version": "3.9.7"
  }
 },
 "nbformat": 4,
 "nbformat_minor": 5
}
